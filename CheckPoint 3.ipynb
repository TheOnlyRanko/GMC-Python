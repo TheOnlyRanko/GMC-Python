{
 "cells": [
  {
   "cell_type": "code",
   "execution_count": 2,
   "metadata": {},
   "outputs": [
    {
     "name": "stdout",
     "output_type": "stream",
     "text": [
      "36\n"
     ]
    }
   ],
   "source": [
    "#Question1: \n",
    "#Write a Python program to multiplies all the items in a list.\n",
    "#for example list=[2, 3, 6]\n",
    "#result = 36\n",
    "\n",
    "gommu_list = [2,3,6]\n",
    "super_easy_result = gommu_list[0]*gommu_list[1]*gommu_list[2]\n",
    "print(super_easy_result)"
   ]
  },
  {
   "cell_type": "code",
   "execution_count": 7,
   "metadata": {},
   "outputs": [
    {
     "name": "stdout",
     "output_type": "stream",
     "text": [
      "[(2, 5), (1, 2), (4, 4), (2, 3), (2, 1)]\n"
     ]
    }
   ],
   "source": [
    "#Question2:\n",
    "#Write a Python program to get a list, sorted in increasing order by the last element in each tuple from a given list of non-empty tuples.\n",
    "#Sample List : [(2, 5), (1, 2), (4, 4), (2, 3), (2, 1)]\n",
    "#Expected Result : [(2, 1), (1, 2), (2, 3), (4, 4), (2, 5)]\n",
    "#Hint: You can use sort function\n",
    "\n",
    "sample_list = [(2, 5), (1, 2), (4, 4), (2, 3), (2, 1)]\n",
    "list1 = []\n",
    "list2 = []\n",
    "for i in sample_list:\n",
    "  list1.append(i[1])\n",
    "  list1.sort\n",
    "for j in list1:\n",
    "  for n in sample_list:\n",
    "    if j == int(n[1],):\n",
    "      list2.append(n)\n",
    "print(list2)\n",
    "  "
   ]
  },
  {
   "cell_type": "code",
   "execution_count": 5,
   "metadata": {},
   "outputs": [
    {
     "name": "stdout",
     "output_type": "stream",
     "text": [
      "{'a': 400, 'b': 400, 'c': 300, 'd': 400}\n"
     ]
    }
   ],
   "source": [
    "#Question3:\n",
    "#Write a Python program to combine two dictionary adding values for common keys.\n",
    "#d1 = {'a': 100, 'b': 200, 'c':300}\n",
    "#d2 = {'a': 300, 'b': 200, 'd':400}\n",
    "#Expected output: {'a': 400, 'b': 400, 'd': 400, 'c': 300}\n",
    "\n",
    "d1 = {'a': 100, 'b': 200, 'c':300}\n",
    "d2 = {'a': 300, 'b': 200, 'd':400}\n",
    "d_ult = {}\n",
    "d_ult.update(d1)#Question2:\n",
    "#Write a Python program to get a list, sorted in increasing order by the last element in each tuple from a given list of non-empty tuples.\n",
    "#Sample List : [(2, 5), (1, 2), (4, 4), (2, 3), (2, 1)]\n",
    "#Expected Result : [(2, 1), (1, 2), (2, 3), (4, 4), (2, 5)]\n",
    "#Hint: You can use sort function\n",
    "\n",
    "sample_list = [(2, 5), (1, 2), (4, 4), (2, 3), (2, 1)]\n",
    "list1 = []\n",
    "list2 = []\n",
    "for i in sample_list:\n",
    "  list1.append(i[1])\n",
    "  list1.sort\n",
    "print(list1)\n",
    "for j in list1:\n",
    "  for n in sample_list:\n",
    "    if j == int(n[1],):\n",
    "      list2.append(n)\n",
    "print(list2)\n",
    "  \n",
    "d_ult.update(d2)\n",
    "for x , y in d1.items():\n",
    "  for a , b in d2.items():\n",
    "    if x == a:\n",
    "      d_ult[x] = (y+b)\n",
    "print(d_ult)"
   ]
  },
  {
   "cell_type": "code",
   "execution_count": 2,
   "metadata": {},
   "outputs": [
    {
     "name": "stdout",
     "output_type": "stream",
     "text": [
      "Write the Damn Number >> 8\n",
      "{1: 1, 2: 4, 3: 9, 4: 16, 5: 25, 6: 36, 7: 49, 8: 64}\n"
     ]
    }
   ],
   "source": [
    "#Question4: \n",
    "#With a given integral number n, write a program to generate a dictionary that contains (i, i*i)\n",
    "# such that is an integral number between 1 and n (both included). and then the program should print the dictionary. \n",
    "#Suppose the following input is supplied to the program: 8 Then, the output should be: {1: 1, 2: 4, 3: 9, 4: 16, 5: 25, 6: 36, 7: 49, 8: 64}\n",
    "s = int(input(\"Write the Damn Number >> \"))\n",
    "ult = {s : s ** 2 for s in range(1,s+1)}\n",
    "print(ult)"
   ]
  },
  {
   "cell_type": "code",
   "execution_count": 36,
   "metadata": {},
   "outputs": [
    {
     "name": "stdout",
     "output_type": "stream",
     "text": [
      "[('item3', '24.5'), ('item2', '15.10'), ('item1', '12.20')]\n"
     ]
    }
   ],
   "source": [
    "#Question 5: \n",
    "#Write a program to sort a tuple by its float element.\n",
    "#For example list= [('item1', '12.20'), ('item2', '15.10'), ('item3', '24.5')]\n",
    "#Expected Output: [('item3', '24.5'), ('item2', '15.10'), ('item1', '12.20')]\n",
    "example_list= [('item1', '12.20'), ('item2', '15.10'), ('item3', '24.5')]\n",
    "def end(n):\n",
    "    return n[-1]\n",
    "def sort (n):\n",
    "    return sorted(example_list, key = end,reverse=True)\n",
    "print(sort(a))\n"
   ]
  }
 ],
 "metadata": {
  "kernelspec": {
   "display_name": "Python 3",
   "language": "python",
   "name": "python3"
  },
  "language_info": {
   "codemirror_mode": {
    "name": "ipython",
    "version": 3
   },
   "file_extension": ".py",
   "mimetype": "text/x-python",
   "name": "python",
   "nbconvert_exporter": "python",
   "pygments_lexer": "ipython3",
   "version": "3.7.0"
  }
 },
 "nbformat": 4,
 "nbformat_minor": 2
}
