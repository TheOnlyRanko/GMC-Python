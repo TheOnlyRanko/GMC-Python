{
 "cells": [
  {
   "cell_type": "code",
   "execution_count": 6,
   "metadata": {},
   "outputs": [
    {
     "name": "stdout",
     "output_type": "stream",
     "text": [
      "[[3 3 2 1 3]\n",
      " [3 2 3 4 1]]\n",
      "[[3, 3, 2, 1, 3], [3, 2, 3, 4, 1]]\n"
     ]
    }
   ],
   "source": [
    "#Write a Python program to convert an array to an ordinary list with the same items. we can use the np.tolist() function\n",
    "import numpy as np\n",
    "array=np.random.randint(1, 5, size=(2,5))\n",
    "print(array)\n",
    "print(array.tolist())"
   ]
  },
  {
   "cell_type": "code",
   "execution_count": 4,
   "metadata": {},
   "outputs": [
    {
     "name": "stdout",
     "output_type": "stream",
     "text": [
      "the array is > [[4 2 3]\n",
      " [1 3 2]\n",
      " [1 4 1]]\n",
      "1st method ya diaaaaaaa >  8\n",
      "2nd method ya diaaaaaaa >  8\n"
     ]
    }
   ],
   "source": [
    "#Write a NumPy program to compute the sum of the diagonal elements of a given array.\n",
    "#Hint: Two methods to solve this problem: 1. manually(without direct function). 2. using the trace function\n",
    "import numpy as np\n",
    "random_array1 = np.random.randint(1, 5, size=(3,3))\n",
    "print(\"the array is >\" , random_array1)\n",
    "trace_sum =  np.trace(random_array1)\n",
    "print(\"1st method ya diaaaaaaa > \", random_array1[0,0] + random_array1[1,1] + random_array1[2,2])\n",
    "print(\"2nd method ya diaaaaaaa > \", trace_sum)\n",
    "# no third method ya diaaaaaaa"
   ]
  },
  {
   "cell_type": "code",
   "execution_count": 9,
   "metadata": {},
   "outputs": [
    {
     "name": "stdout",
     "output_type": "stream",
     "text": [
      "my_amazing_array is :  [[14 14 28 25]\n",
      " [27 10 22 10]]\n",
      "Values bigger than x = [28 25 27 22]\n"
     ]
    }
   ],
   "source": [
    "#Given an array of your choice, get all the values higher than X :\n",
    "#if a = [[1,2],[3,5]] and x = 2 :  then 3 and 5 are higher than 2. \n",
    "my_amazing_array = np.random.randint(10, 30, size=(2,4))\n",
    "print(\"my_amazing_array is : \" , my_amazing_array)\n",
    "x = 15\n",
    "print(\"Values bigger than x =\", my_amazing_array[my_amazing_array>x])"
   ]
  },
  {
   "cell_type": "code",
   "execution_count": 12,
   "metadata": {},
   "outputs": [
    {
     "name": "stdout",
     "output_type": "stream",
     "text": [
      "A =  [[4 1 3]\n",
      " [2 1 4]]\n",
      "B =  [[3 1 4]\n",
      " [4 4 2]]\n",
      "Addition =  [[7 2 7]\n",
      " [6 5 6]]\n"
     ]
    }
   ],
   "source": [
    "#Given two arrays, A & B have the same shape. \n",
    "#The task is to apply addition by hand: C is the new array.\n",
    "A = np.random.randint(1, 5, size=(2,3))\n",
    "B = np.random.randint(1, 5, size=(2,3))\n",
    "C = A + B #I hope that is what \"by hand\" means\n",
    "print(\"A = \", A)\n",
    "print(\"B = \", B)\n",
    "print(\"Addition = \", C)"
   ]
  },
  {
   "cell_type": "code",
   "execution_count": 25,
   "metadata": {},
   "outputs": [
    {
     "name": "stdout",
     "output_type": "stream",
     "text": [
      "random_array =  [[3 3 4]\n",
      " [1 3 4]\n",
      " [2 2 3]]\n",
      "random_array Mean =  2.7777777777777777\n",
      "1st row Mean =  3.3333333333333335\n",
      "2nd row Mean =  2.6666666666666665\n",
      "3rd row Mean =  2.3333333333333335\n"
     ]
    }
   ],
   "source": [
    "#Write a NumPy program to subtract the mean of each row of a given matrix.\n",
    "#Hint: use the mean function\n",
    "random_array = np.random.randint(1, 5, size=(3,3))\n",
    "print(\"random_array = \" , random_array)\n",
    "print(\"random_array Mean = \", np.mean(random_array))\n",
    "print(\"1st row Mean = \", np.mean(random_array[0]))\n",
    "print(\"2nd row Mean = \", np.mean(random_array[1]))\n",
    "print(\"3rd row Mean = \", np.mean(random_array[2])) #Glad u didn't ask about coulumns"
   ]
  }
 ],
 "metadata": {
  "kernelspec": {
   "display_name": "Python 3",
   "language": "python",
   "name": "python3"
  },
  "language_info": {
   "codemirror_mode": {
    "name": "ipython",
    "version": 3
   },
   "file_extension": ".py",
   "mimetype": "text/x-python",
   "name": "python",
   "nbconvert_exporter": "python",
   "pygments_lexer": "ipython3",
   "version": "3.7.0"
  }
 },
 "nbformat": 4,
 "nbformat_minor": 2
}
