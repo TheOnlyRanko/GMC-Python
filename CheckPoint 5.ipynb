{
 "cells": [
  {
   "cell_type": "code",
   "execution_count": 33,
   "metadata": {},
   "outputs": [
    {
     "name": "stdout",
     "output_type": "stream",
     "text": [
      "(1, 2, 3)\n"
     ]
    }
   ],
   "source": [
    "#1 - Write a python class named Point3D defined by x, y, and z. \n",
    "#Define a method that returns (x, y ,z). This tells Python to represent this object in the following format: (x, y, z). \n",
    "#Then create a variable named my_point containing a new instance of Point3D with x=1, y=2, and z=3 and print it.\n",
    "class Point3D():\n",
    "    def __init__(self,x,y,z):\n",
    "      self.x = x\n",
    "      self.y = y\n",
    "      self.z = z\n",
    "\n",
    "    def __repr__(self): # the only way it could work\n",
    "        return \"(%d, %d, %d)\" % (self.x, self.y, self.z)\n",
    "my_point = Point3D(1,2,3)\n",
    "print (my_point)"
   ]
  },
  {
   "cell_type": "code",
   "execution_count": 34,
   "metadata": {},
   "outputs": [
    {
     "name": "stdout",
     "output_type": "stream",
     "text": [
      "Area >  12\n",
      "Perimeter >  14\n"
     ]
    }
   ],
   "source": [
    "#Write a Python class named Rectangle constructed by a length and width. \n",
    "#Define two methods area and perimeter which will compute the area and the perimeter of the rectangle. \n",
    "#Then create a variable named my_rectangle containing a new instance of Rectangle with width=3 and length = 4 and compute both of area and perimeter \n",
    "#( the area is expected to be 3*4=12 and perimeter 2*(3+4)=14)\n",
    "class Rectangle():\n",
    "    def __init__(self, leno, wido):\n",
    "        self.length = leno\n",
    "        self.width  = wido\n",
    "    def rectangle_area(self):\n",
    "        return self.length * self.width\n",
    "    def rectangle_perimeter(self):\n",
    "        return 2 * (self.length + self.width)\n",
    "My_Rectangle = Rectangle(4, 3)\n",
    "print(\"Area > \" , My_Rectangle.rectangle_area())\n",
    "print(\"Perimeter > \" , (My_Rectangle.rectangle_perimeter()))"
   ]
  },
  {
   "cell_type": "code",
   "execution_count": 57,
   "metadata": {},
   "outputs": [
    {
     "name": "stdout",
     "output_type": "stream",
     "text": [
      "28.26\n",
      "18.84\n"
     ]
    }
   ],
   "source": [
    "#Write a Python  class named Circle constructed by its center O and radius r. \n",
    "#Define two methods area and perimeter which will compute the area and the perimeter of the circle, \n",
    "#and isInside() method of the class which allows to test whether a point A(x, y) belongs to the circle C(O, r) or not.\n",
    "class Circle():\n",
    "    def __init__(self, r):\n",
    "        self.radius = r\n",
    "\n",
    "    def area(self):\n",
    "        return self.radius ** 2 * 3.14\n",
    "    \n",
    "    def perimeter(self):\n",
    "        return 2 * self.radius * 3.14\n",
    "\n",
    "my_damn_circle = Circle(3)\n",
    "print(my_damn_circle.area())\n",
    "print(my_damn_circle.perimeter())"
   ]
  },
  {
   "cell_type": "code",
   "execution_count": null,
   "metadata": {},
   "outputs": [],
   "source": [
    "#Suppose we want to model a bank account with support for deposit and withdraw operations. \n",
    "#Let’s create a python class named bank defined by its balance. Define two methods deposit and withdraw to compute the new amount of each operation.\n",
    "class Bank:\n",
    "    def __init__(self):\n",
    "        self.balance=0\n",
    " \n",
    "    def deposit(self):\n",
    "        amount=int(input(\"Deposit: \"))\n",
    "        self.balance += amount\n",
    " \n",
    "    def withdraw(self):\n",
    "        amount = int(input(\"Withdraw: \"))\n",
    "        self.balance -= amount\n",
    " \n",
    "        print(\"Available=\",self.balance)\n",
    " \n",
    "# the only way it could work , runs on Colab *_*\n",
    "b = Bank()\n",
    "b.deposit()\n",
    "b.withdraw()"
   ]
  }
 ],
 "metadata": {
  "kernelspec": {
   "display_name": "Python 3",
   "language": "python",
   "name": "python3"
  },
  "language_info": {
   "codemirror_mode": {
    "name": "ipython",
    "version": 3
   },
   "file_extension": ".py",
   "mimetype": "text/x-python",
   "name": "python",
   "nbconvert_exporter": "python",
   "pygments_lexer": "ipython3",
   "version": "3.7.0"
  }
 },
 "nbformat": 4,
 "nbformat_minor": 2
}
