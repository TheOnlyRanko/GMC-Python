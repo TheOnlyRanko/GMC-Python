{
 "cells": [
  {
   "cell_type": "code",
   "execution_count": null,
   "metadata": {},
   "outputs": [],
   "source": []
  },
  {
   "cell_type": "code",
   "execution_count": 1,
   "metadata": {},
   "outputs": [
    {
     "name": "stdout",
     "output_type": "stream",
     "text": [
      "35\n"
     ]
    }
   ],
   "source": [
    "#Question 1\n",
    "#Write a Python function to find the Max of three numbers.\n",
    "#for example, the max of these three numbers 20, 35, 19 is 35\n",
    "nums = [20, 35, 19]\n",
    "nums.sort()\n",
    "print(nums[-1])"
   ]
  },
  {
   "cell_type": "code",
   "execution_count": 2,
   "metadata": {},
   "outputs": [
    {
     "name": "stdout",
     "output_type": "stream",
     "text": [
      "50\n",
      "30\n"
     ]
    }
   ],
   "source": [
    "#Question 2\n",
    "#Write a function calculation() such that it can accept two variables and calculate the addition and subtraction of it. And also it must return both addition and subtraction in a single return call\n",
    "#For example:\n",
    "#calculation(40, 10) should produce 50, 30\n",
    "#Question 2\n",
    "#Write a function calculation() such that it can accept two variables and calculate the addition and subtraction of it. And also it must return both addition and subtraction in a single return call\n",
    "#For example:\n",
    "#calculation(40, 10) should produce 50, 30\n",
    "a = 40\n",
    "b = 10\n",
    "addition = lambda a , b : a + b\n",
    "subtraction = lambda a , b : a - b\n",
    "print(addition(a,b))\n",
    "print(subtraction(a,b))"
   ]
  },
  {
   "cell_type": "code",
   "execution_count": 7,
   "metadata": {},
   "outputs": [
    {
     "name": "stdout",
     "output_type": "stream",
     "text": [
      "sum =  12\n",
      "multiplying =  125\n",
      "sum1 =  4\n",
      "multiplying1 =  15\n"
     ]
    }
   ],
   "source": [
    "#Question 3\n",
    "#* Write a function that sums the elements of a list of integers.\n",
    "#* Write a function that multiplies the elements of an integer list.\n",
    "#* Use the two functions to sum the elements whose position is an even number (0,2,4…) and multiply the rest.\n",
    "#Hint: Consider extracting two lists from a first list \n",
    "#Question 3\n",
    "#* Write a function that sums the elements of a list of integers.\n",
    "#* Write a function that multiplies the elements of an integer list.\n",
    "#* Use the two functions to sum the elements whose position is an even number (0,2,4…) and multiply the rest.\n",
    "#Hint: Consider extracting two lists from a first list \n",
    "list1 = [3 , 4 , 5]\n",
    "sum = 0\n",
    "sum1 = 0\n",
    "multiplying1 = 1\n",
    "for i in range(0 , len(list1)):\n",
    "  sum = sum + list1[i]\n",
    "print(\"sum = \",sum)\n",
    "multiplying = 1\n",
    "for m in range(0 , len(list1)):\n",
    "  multiplying = multiplying * list1[i]\n",
    "print(\"multiplying = \", multiplying)\n",
    "for x in list1:\n",
    "  if x % 2 == 0:\n",
    "    sum1 = sum1 + x\n",
    "  else:\n",
    "    multiplying1 = multiplying1 * x\n",
    "print(\"sum1 = \",sum1)\n",
    "print(\"multiplying1 = \", multiplying1)\n"
   ]
  },
  {
   "cell_type": "code",
   "execution_count": 6,
   "metadata": {},
   "outputs": [
    {
     "name": "stdout",
     "output_type": "stream",
     "text": [
      "sorted >  ['black', 'green', 'red', 'white', 'yellow']\n"
     ]
    }
   ],
   "source": [
    "#Question 4\n",
    "#Write a Python program that accepts a hyphen-separated sequence of words as input and prints the words in a hyphen-separated sequence after sorting them alphabetically.\n",
    "#Sample Items : green-red-yellow-black-white\n",
    "#Expected Result : black-green-red-white-yellow\n",
    "#Hint : There's a split function to separate your input string into words and a sort function to sort.\n",
    "sample = \"green-red-yellow-black-white\"\n",
    "sp = sample.split(\"-\")\n",
    "sp.sort()\n",
    "print(\"sorted > \",sp)"
   ]
  }
 ],
 "metadata": {
  "kernelspec": {
   "display_name": "Python 3",
   "language": "python",
   "name": "python3"
  },
  "language_info": {
   "codemirror_mode": {
    "name": "ipython",
    "version": 3
   },
   "file_extension": ".py",
   "mimetype": "text/x-python",
   "name": "python",
   "nbconvert_exporter": "python",
   "pygments_lexer": "ipython3",
   "version": "3.7.0"
  }
 },
 "nbformat": 4,
 "nbformat_minor": 2
}
