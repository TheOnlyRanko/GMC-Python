{
 "cells": [
  {
   "cell_type": "code",
   "execution_count": null,
   "metadata": {},
   "outputs": [],
   "source": []
  },
  {
   "cell_type": "code",
   "execution_count": 1,
   "metadata": {},
   "outputs": [
    {
     "data": {
      "text/plain": [
       "35"
      ]
     },
     "execution_count": 1,
     "metadata": {},
     "output_type": "execute_result"
    }
   ],
   "source": [
    "#Question 1\n",
    "#Write a Python function to find the Max of three numbers.\n",
    "#for example, the max of these three numbers 20, 35, 19 is 35\n",
    "nums = [20, 35, 19]\n",
    "def max (number):\n",
    "  return sorted(number)[-1]\n",
    "max(nums)"
   ]
  },
  {
   "cell_type": "code",
   "execution_count": 13,
   "metadata": {},
   "outputs": [
    {
     "name": "stdout",
     "output_type": "stream",
     "text": [
      "(50, 30)\n"
     ]
    }
   ],
   "source": [
    "#Question 2\n",
    "#Write a function calculation() such that it can accept two variables and calculate the addition and subtraction of it. And also it must return both addition and subtraction in a single return call\n",
    "#For example:\n",
    "#calculation(40, 10) should produce 50, 30\n",
    "#Question 2\n",
    "#Write a function calculation() such that it can accept two variables and calculate the addition and subtraction of it. And also it must return both addition and subtraction in a single return call\n",
    "#For example:\n",
    "#calculation(40, 10) should produce 50, 30\n",
    "def add (a , b):\n",
    "  return (a + b) , (a - b)\n",
    "print(add(40 , 10))"
   ]
  },
  {
   "cell_type": "code",
   "execution_count": 8,
   "metadata": {},
   "outputs": [
    {
     "name": "stdout",
     "output_type": "stream",
     "text": [
      "184\n",
      "424710000\n"
     ]
    }
   ],
   "source": [
    "#Question 3\n",
    "#* Write a function that sums the elements of a list of integers.\n",
    "#* Write a function that multiplies the elements of an integer list.\n",
    "#* Use the two functions to sum the elements whose position is an even number (0,2,4…) and multiply the rest.\n",
    "#Hint: Consider extracting two lists from a first list \n",
    "#Question 3\n",
    "#* Write a function that sums the elements of a list of integers.\n",
    "#* Write a function that multiplies the elements of an integer list.\n",
    "#* Use the two functions to sum the elements whose position is an even number (0,2,4…) and multiply the rest.\n",
    "#Hint: Consider extracting two lists from a first list \n",
    "def mul (multi):\n",
    "  z = 1 \n",
    "  for m in x:\n",
    "    z = z * m\n",
    "  return z\n",
    "def sums (sumo):\n",
    "  y = 0\n",
    "  for i in x :\n",
    "    y = y + i\n",
    "  return y\n",
    "x=[12,25,55,20,33,39]\n",
    "c=[]\n",
    "w=[]\n",
    "for i in range(len(x)):\n",
    "  if i % 2 == 0:\n",
    "    c.append(x[i])\n",
    "else:\n",
    "  w.append(x[i])\n",
    "print(sums(c))\n",
    "print(mul(w))"
   ]
  },
  {
   "cell_type": "code",
   "execution_count": 3,
   "metadata": {},
   "outputs": [
    {
     "name": "stdout",
     "output_type": "stream",
     "text": [
      "black-green-red-white-yellow\n"
     ]
    }
   ],
   "source": [
    "#Question 4\n",
    "#Write a Python program that accepts a hyphen-separated sequence of words as input and prints the words in a hyphen-separated sequence after sorting them alphabetically.\n",
    "#Sample Items : green-red-yellow-black-white\n",
    "#Expected Result : black-green-red-white-yellow\n",
    "#Hint : There's a split function to separate your input string into words and a sort function to sort.\n",
    "#Question 4\n",
    "colors = \"green-red-yellow-black-white\"\n",
    "def enas (bbb):\n",
    "    x = bbb.split(\"-\")\n",
    "    x.sort()\n",
    "    return x\n",
    "y = enas(colors)\n",
    "f = 0\n",
    "for i in y:\n",
    "  f = f + 1\n",
    "  if f >= len(y):\n",
    "    print(i)\n",
    "    break\n",
    "  print(i , end = \"-\")"
   ]
  }
 ],
 "metadata": {
  "kernelspec": {
   "display_name": "Python 3",
   "language": "python",
   "name": "python3"
  },
  "language_info": {
   "codemirror_mode": {
    "name": "ipython",
    "version": 3
   },
   "file_extension": ".py",
   "mimetype": "text/x-python",
   "name": "python",
   "nbconvert_exporter": "python",
   "pygments_lexer": "ipython3",
   "version": "3.7.0"
  }
 },
 "nbformat": 4,
 "nbformat_minor": 2
}
