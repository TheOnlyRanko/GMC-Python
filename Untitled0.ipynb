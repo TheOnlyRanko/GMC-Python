{
  "nbformat": 4,
  "nbformat_minor": 0,
  "metadata": {
    "colab": {
      "name": "Untitled0.ipynb",
      "provenance": []
    },
    "kernelspec": {
      "name": "python3",
      "display_name": "Python 3"
    },
    "language_info": {
      "name": "python"
    }
  },
  "cells": [
    {
      "cell_type": "code",
      "execution_count": 1,
      "metadata": {
        "id": "9_4kDIPwlla1",
        "colab": {
          "base_uri": "https://localhost:8080/"
        },
        "outputId": "bc2ef465-1b4c-468b-c871-662b818bca02"
      },
      "outputs": [
        {
          "output_type": "stream",
          "name": "stdout",
          "text": [
            "welcome to python World! Let's start Coding\n"
          ]
        }
      ],
      "source": [
        "print(\"welcome to python World! Let's start Coding\")"
      ]
    }
  ]
}